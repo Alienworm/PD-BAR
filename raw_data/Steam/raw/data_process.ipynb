{
 "cells": [
  {
   "cell_type": "code",
   "execution_count": 14,
   "metadata": {
    "collapsed": true,
    "ExecuteTime": {
     "end_time": "2024-08-20T06:56:11.942525Z",
     "start_time": "2024-08-20T06:56:11.930677Z"
    }
   },
   "outputs": [],
   "source": [
    "import math\n",
    "import pickle"
   ]
  },
  {
   "cell_type": "code",
   "execution_count": 6,
   "outputs": [
    {
     "name": "stdout",
     "output_type": "stream",
     "text": [
      "Size of user_item_data: 29634, user_bundle_data: 29634, bundle_item_data: 615\n"
     ]
    }
   ],
   "source": [
    "user_item_data = pickle.load(open('user_item_map','rb'))\n",
    "user_bundle_data = pickle.load(open('user_bundle_map','rb'))\n",
    "bundle_item_data = pickle.load(open('bundle_item_map','rb'))\n",
    "\n",
    "print('Size of user_item_data: {}, user_bundle_data: {}, bundle_item_data: {}'.format(len(user_item_data), len(user_bundle_data), len(bundle_item_data)))"
   ],
   "metadata": {
    "collapsed": false,
    "ExecuteTime": {
     "end_time": "2024-08-20T06:50:15.888466Z",
     "start_time": "2024-08-20T06:50:14.821477Z"
    }
   }
  },
  {
   "cell_type": "code",
   "execution_count": 7,
   "outputs": [
    {
     "name": "stdout",
     "output_type": "stream",
     "text": [
      "Number of users: 29634, bundles: 615, items: 2819\n"
     ]
    }
   ],
   "source": [
    "user_list = list(set(list(user_item_data.keys()) + list(user_bundle_data.keys())))\n",
    "\n",
    "bundle_list = list(bundle_item_data.keys())\n",
    "for user, bundles in user_bundle_data.items():\n",
    "    bundle_list.extend(list(bundles))\n",
    "bundle_list = list(set(bundle_list))\n",
    "\n",
    "item_list = []\n",
    "for user, items in user_item_data.items():\n",
    "    item_list.extend(list(items))\n",
    "for bundle, items in bundle_item_data.items():\n",
    "    item_list.extend(list(items))\n",
    "item_list = list(set(item_list))\n",
    "\n",
    "print('Number of users: {}, bundles: {}, items: {}'.format(len(user_list), len(bundle_list), len(item_list)))\n",
    "\n",
    "with open('../Steam_data_size.txt', 'w') as f:\n",
    "    f.write('{}\\t{}\\t{}'.format(len(user_list), len(bundle_list), len(item_list)))"
   ],
   "metadata": {
    "collapsed": false,
    "ExecuteTime": {
     "end_time": "2024-08-20T06:50:28.552652Z",
     "start_time": "2024-08-20T06:50:28.435276Z"
    }
   }
  },
  {
   "cell_type": "code",
   "execution_count": 8,
   "outputs": [],
   "source": [
    "with open('../user_item.txt', 'w') as f:\n",
    "    for user, items in user_item_data.items():\n",
    "        for item in items:\n",
    "            f.write('{}\\t{}\\n'.format(user, item))\n",
    "\n",
    "with open('../bundle_item.txt', 'w') as f:\n",
    "    for bundle, items in bundle_item_data.items():\n",
    "        for item in items:\n",
    "            f.write('{}\\t{}\\n'.format(bundle, item))"
   ],
   "metadata": {
    "collapsed": false,
    "ExecuteTime": {
     "end_time": "2024-08-20T06:51:21.454687Z",
     "start_time": "2024-08-20T06:51:20.328270Z"
    }
   }
  },
  {
   "cell_type": "code",
   "execution_count": 35,
   "outputs": [
    {
     "name": "stdout",
     "output_type": "stream",
     "text": [
      "Size of train_data: 64368, tune_data: 6419, test_data: 16778\n",
      "Size of train_data: 0.7350882201792954, tune_data: 0.07330554445269229, test_data: 0.19160623536801233\n"
     ]
    }
   ],
   "source": [
    "train_data_ratio = 0.7\n",
    "tune_data_ratio = 0.1\n",
    "test_data_ratio = 0.2\n",
    "\n",
    "train_data = []\n",
    "tune_data = []\n",
    "test_data = []\n",
    "\n",
    "for user, bundles in user_bundle_data.items():\n",
    "    bundles = list(bundles)\n",
    "    train_bundle_num = math.ceil(len(bundles) * train_data_ratio)\n",
    "    tune_bundle_num = math.floor(len(bundles) * tune_data_ratio)\n",
    "    test_bundle_num = len(bundles) - train_bundle_num - tune_bundle_num\n",
    "\n",
    "    if len(bundles) == 3:\n",
    "        train_bundle_num = 1\n",
    "        tune_bundle_num = 1\n",
    "        test_bundle_num = 1\n",
    "\n",
    "    train_data.extend([(user, bundle) for bundle in bundles[:train_bundle_num]])\n",
    "    tune_data.extend([(user, bundle) for bundle in bundles[train_bundle_num:train_bundle_num+tune_bundle_num]])\n",
    "    test_data.extend([(user, bundle) for bundle in bundles[train_bundle_num+tune_bundle_num:]])\n",
    "\n",
    "total_record_num = len(train_data) + len(tune_data) + len(test_data)\n",
    "\n",
    "print('Size of train_data: {}, tune_data: {}, test_data: {}'.format(len(train_data), len(tune_data), len(test_data)))\n",
    "print('Size of train_data: {}, tune_data: {}, test_data: {}'.format(len(train_data)/total_record_num, len(tune_data)/total_record_num, len(test_data)/total_record_num))"
   ],
   "metadata": {
    "collapsed": false,
    "ExecuteTime": {
     "end_time": "2024-08-20T07:11:22.874796Z",
     "start_time": "2024-08-20T07:11:22.484443Z"
    }
   }
  },
  {
   "cell_type": "code",
   "execution_count": 36,
   "outputs": [],
   "source": [
    "with open('../user_bundle_train.txt', 'w') as f:\n",
    "    for user, bundle in train_data:\n",
    "        f.write('{}\\t{}\\n'.format(user, bundle))\n",
    "\n",
    "with open('../user_bundle_tune.txt', 'w') as f:\n",
    "    for user, bundle in tune_data:\n",
    "        f.write('{}\\t{}\\n'.format(user, bundle))\n",
    "\n",
    "with open('../user_bundle_test.txt', 'w') as f:\n",
    "    for user, bundle in test_data:\n",
    "        f.write('{}\\t{}\\n'.format(user, bundle))"
   ],
   "metadata": {
    "collapsed": false,
    "ExecuteTime": {
     "end_time": "2024-08-20T07:11:27.317537Z",
     "start_time": "2024-08-20T07:11:27.224295Z"
    }
   }
  },
  {
   "cell_type": "code",
   "execution_count": null,
   "outputs": [],
   "source": [
    "./run.sh --dataset_name Youshu --tr \"(5,70)\" --ars \"[(4,4)]\" --an 1 --max_sample_num_per_user 1 --max_ub_num_quantile 1.0 --max_ui_num_quantile 1.0 --max_bi_num_quantile 1.0\n",
    "./run.sh --dataset_name Youshu --tr \"(5,70)\" --ars \"[(4,4)]\" --an 2 --max_sample_num_per_user 1 --max_ub_num_quantile 1.0 --max_ui_num_quantile 1.0 --max_bi_num_quantile 1.0\n",
    "./run.sh --dataset_name Youshu --tr \"(5,70)\" --ars \"[(4,4)]\" --an 3 --max_sample_num_per_user 1 --max_ub_num_quantile 1.0 --max_ui_num_quantile 1.0 --max_bi_num_quantile 1.0\n",
    "./run.sh --dataset_name Youshu --tr \"(5,70)\" --ars \"[(4,4)]\" --an 4 --max_sample_num_per_user 1 --max_ub_num_quantile 1.0 --max_ui_num_quantile 1.0 --max_bi_num_quantile 1.0\n",
    "./run.sh --dataset_name Youshu --tr \"(5,70)\" --ars \"[(4,4)]\" --an 5 --max_sample_num_per_user 1 --max_ub_num_quantile 1.0 --max_ui_num_quantile 1.0 --max_bi_num_quantile 1.0\n",
    "\n"
   ],
   "metadata": {
    "collapsed": false
   }
  },
  {
   "cell_type": "code",
   "execution_count": null,
   "outputs": [],
   "source": [
    "./run.sh --dataset_name Youshu --tr \"(5,5)\" --ars \"[(4,4)]\" --an 1 --max_sample_num_per_user 1 --max_ub_num_quantile 1.0 --max_ui_num_quantile 1.0 --max_bi_num_quantile 1.0\n",
    "./run.sh --dataset_name Youshu --tr \"(5,10)\" --ars \"[(4,4)]\" --an 1 --max_sample_num_per_user 1 --max_ub_num_quantile 1.0 --max_ui_num_quantile 1.0 --max_bi_num_quantile 1.0\n",
    "./run.sh --dataset_name Youshu --tr \"(5,15)\" --ars \"[(4,4)]\" --an 1 --max_sample_num_per_user 1 --max_ub_num_quantile 1.0 --max_ui_num_quantile 1.0 --max_bi_num_quantile 1.0\n",
    "./run.sh --dataset_name Youshu --tr \"(5,20)\" --ars \"[(4,4)]\" --an 1 --max_sample_num_per_user 1 --max_ub_num_quantile 1.0 --max_ui_num_quantile 1.0 --max_bi_num_quantile 1.0\n",
    "./run.sh --dataset_name Youshu --tr \"(5,25)\" --ars \"[(4,4)]\" --an 1 --max_sample_num_per_user 1 --max_ub_num_quantile 1.0 --max_ui_num_quantile 1.0 --max_bi_num_quantile 1.0"
   ],
   "metadata": {
    "collapsed": false
   }
  },
  {
   "cell_type": "code",
   "execution_count": null,
   "outputs": [],
   "source": [
    "./run.sh --dataset_name Youshu --tr \"(3,70)\" --ars \"[(1,2)]\" --an 1 --max_sample_num_per_user 1 --max_ub_num_quantile 1.0 --max_ui_num_quantile 1.0 --max_bi_num_quantile 1.0 --train_batch_size 256 --augment_batch_size 256 --lightgcn_layers 10\n",
    "./run.sh --dataset_name Youshu --tr \"(3,70)\" --ars \"[(1,2)]\" --an 1 --max_sample_num_per_user 1 --max_ub_num_quantile 1.0 --max_ui_num_quantile 1.0 --max_bi_num_quantile 1.0 --train_batch_size 256 --augment_batch_size 256 --lightgcn_layers 20\n",
    "\n",
    "./run.sh --dataset_name Youshu --tr \"(5,70)\" --ars \"[(4,4)]\" --an 2 --max_sample_num_per_user 2 --max_ub_num_quantile 0.95 --max_ui_num_quantile 0.95 --max_bi_num_quantile 0.95 --train_batch_size 256 --augment_batch_size 256 --lightgcn_layers 20  --noise_scale 0.2\n",
    "./run.sh --dataset_name Youshu --tr \"(5,70)\" --ars \"[(4,4)]\" --an 1 --max_sample_num_per_user 2 --max_ub_num_quantile 0.95 --max_ui_num_quantile 0.95 --max_bi_num_quantile 0.95 --lightgcn_layers 20\n",
    "\n"
   ],
   "metadata": {
    "collapsed": false
   }
  },
  {
   "cell_type": "code",
   "execution_count": null,
   "outputs": [],
   "source": [
    "./run.sh --dataset_name Youshu --tr \"(9,70)\" --ars \"[(8,8)]\" --an 2 --max_sample_num_per_user 1\n",
    "./run.sh --dataset_name Youshu --tr \"(9,70)\" --ars \"[(8,8)]\" --an 1 --max_sample_num_per_user 2\n",
    "./run.sh --dataset_name Youshu --tr \"(9,70)\" --ars \"[(8,8)]\" --an 2 --max_sample_num_per_user 2\n",
    "\n"
   ],
   "metadata": {
    "collapsed": false
   }
  },
  {
   "cell_type": "code",
   "execution_count": null,
   "outputs": [],
   "source": [
    "./run.sh --dataset_name Youshu --tr \"(5,70)\" --ars \"[(4,4)]\" --an 1 --max_sample_num_per_user 1\n",
    "./run.sh --dataset_name NetEase --tr \"(5,6)\" --ars \"[(4,4)]\" --an 1 --max_sample_num_per_user 1 --augment_batch_size 256 --train_batch_size 256 --max_ub_num_quantile 0.99 --max_ui_num_quantile 0.99 --max_bi_num_quantile 0.99\n",
    "./run.sh --dataset_name Steam --tr \"(8,20)\" --ars \"[(7,7)]\" --an 2 --max_sample_num_per_user 1 --augment_batch_size 256 --train_batch_size 256 --max_ub_num_quantile 1.0 --max_ui_num_quantile 1.0 --max_bi_num_quantile 1.0 --early_stop 20 --embedding_dim 64 --eval_interval 5 --lightgcn_layers 5 --noise_scale 0.2\n",
    "\n"
   ],
   "metadata": {
    "collapsed": false
   }
  },
  {
   "cell_type": "code",
   "execution_count": null,
   "outputs": [],
   "source": [
    "./run.sh --dataset_name Youshu --tr \"(5,70)\" --ars \"[(4,4)]\" --an 1 --max_sample_num_per_user 1 --max_diffusion_steps 10\n",
    "./run.sh --dataset_name Youshu --tr \"(5,70)\" --ars \"[(4,4)]\" --an 1 --max_sample_num_per_user 1 --max_diffusion_steps 30\n",
    "./run.sh --dataset_name Youshu --tr \"(5,70)\" --ars \"[(4,4)]\" --an 1 --max_sample_num_per_user 1 --max_diffusion_steps 40\n",
    "./run.sh --dataset_name Youshu --tr \"(5,70)\" --ars \"[(4,4)]\" --an 1 --max_sample_num_per_user 1 --max_diffusion_steps 50\n",
    "./run.sh --dataset_name Youshu --tr \"(5,70)\" --ars \"[(4,4)]\" --an 1 --max_sample_num_per_user 1 --noise_scale 0.2\n",
    "./run.sh --dataset_name Youshu --tr \"(5,70)\" --ars \"[(4,4)]\" --an 1 --max_sample_num_per_user 1 --noise_scale 0.3\n",
    "./run.sh --dataset_name Youshu --tr \"(5,70)\" --ars \"[(4,4)]\" --an 1 --max_sample_num_per_user 1 --noise_scale 0.4\n",
    "./run.sh --dataset_name Youshu --tr \"(5,70)\" --ars \"[(4,4)]\" --an 1 --max_sample_num_per_user 1 --noise_scale 0.5\n",
    "\n"
   ],
   "metadata": {
    "collapsed": false
   }
  },
  {
   "cell_type": "code",
   "execution_count": null,
   "outputs": [],
   "source": [
    "./run.sh --dataset_name Steam --tr \"(8,20)\" --ars \"[(7,7)]\" --an 1 --max_sample_num_per_user 1 --augment_batch_size 256 --train_batch_size 256 --max_ub_num_quantile 1.0 --max_ui_num_quantile 1.0 --max_bi_num_quantile 1.0 --early_stop 20 --embedding_dim 64 --eval_interval 5 --lightgcn_layers 5 --noise_scale 0.2\n",
    "./run.sh --dataset_name Steam --tr \"(8,20)\" --ars \"[(7,7)]\" --an 3 --max_sample_num_per_user 1 --augment_batch_size 256 --train_batch_size 256 --max_ub_num_quantile 1.0 --max_ui_num_quantile 1.0 --max_bi_num_quantile 1.0 --early_stop 20 --embedding_dim 64 --eval_interval 5 --lightgcn_layers 5 --noise_scale 0.2\n",
    "./run.sh --dataset_name Steam --tr \"(8,20)\" --ars \"[(7,7)]\" --an 4 --max_sample_num_per_user 1 --augment_batch_size 256 --train_batch_size 256 --max_ub_num_quantile 1.0 --max_ui_num_quantile 1.0 --max_bi_num_quantile 1.0 --early_stop 20 --embedding_dim 64 --eval_interval 5 --lightgcn_layers 5 --noise_scale 0.2\n",
    "./run.sh --dataset_name Steam --tr \"(8,20)\" --ars \"[(7,7)]\" --an 5 --max_sample_num_per_user 1 --augment_batch_size 256 --train_batch_size 256 --max_ub_num_quantile 1.0 --max_ui_num_quantile 1.0 --max_bi_num_quantile 1.0 --early_stop 20 --embedding_dim 64 --eval_interval 5 --lightgcn_layers 5 --noise_scale 0.2\n",
    "\n",
    "./run.sh --dataset_name Steam --tr \"(8,20)\" --ars \"[(7,7)]\" --an 2 --max_sample_num_per_user 2 --augment_batch_size 256 --train_batch_size 256 --max_ub_num_quantile 1.0 --max_ui_num_quantile 1.0 --max_bi_num_quantile 1.0 --early_stop 20 --embedding_dim 64 --eval_interval 5 --lightgcn_layers 5 --noise_scale 0.2\n",
    "./run.sh --dataset_name Steam --tr \"(8,20)\" --ars \"[(7,7)]\" --an 2 --max_sample_num_per_user 3 --augment_batch_size 256 --train_batch_size 256 --max_ub_num_quantile 1.0 --max_ui_num_quantile 1.0 --max_bi_num_quantile 1.0 --early_stop 20 --embedding_dim 64 --eval_interval 5 --lightgcn_layers 5 --noise_scale 0.2\n",
    "./run.sh --dataset_name Steam --tr \"(8,20)\" --ars \"[(7,7)]\" --an 2 --max_sample_num_per_user 4 --augment_batch_size 256 --train_batch_size 256 --max_ub_num_quantile 1.0 --max_ui_num_quantile 1.0 --max_bi_num_quantile 1.0 --early_stop 20 --embedding_dim 64 --eval_interval 5 --lightgcn_layers 5 --noise_scale 0.2\n",
    "./run.sh --dataset_name Steam --tr \"(8,20)\" --ars \"[(7,7)]\" --an 2 --max_sample_num_per_user 5 --augment_batch_size 256 --train_batch_size 256 --max_ub_num_quantile 1.0 --max_ui_num_quantile 1.0 --max_bi_num_quantile 1.0 --early_stop 20 --embedding_dim 64 --eval_interval 5 --lightgcn_layers 5 --noise_scale 0.2\n",
    "\n",
    "./run.sh --dataset_name Steam --tr \"(8,20)\" --ars \"[(7,7)]\" --an 2 --max_sample_num_per_user 1 --augment_batch_size 256 --train_batch_size 256 --max_ub_num_quantile 1.0 --max_ui_num_quantile 1.0 --max_bi_num_quantile 1.0 --early_stop 20 --embedding_dim 64 --eval_interval 5 --lightgcn_layers 5 --noise_scale 0.1\n",
    "./run.sh --dataset_name Steam --tr \"(8,20)\" --ars \"[(7,7)]\" --an 2 --max_sample_num_per_user 1 --augment_batch_size 256 --train_batch_size 256 --max_ub_num_quantile 1.0 --max_ui_num_quantile 1.0 --max_bi_num_quantile 1.0 --early_stop 20 --embedding_dim 64 --eval_interval 5 --lightgcn_layers 5 --noise_scale 0.3\n",
    "./run.sh --dataset_name Steam --tr \"(8,20)\" --ars \"[(7,7)]\" --an 2 --max_sample_num_per_user 1 --augment_batch_size 256 --train_batch_size 256 --max_ub_num_quantile 1.0 --max_ui_num_quantile 1.0 --max_bi_num_quantile 1.0 --early_stop 20 --embedding_dim 64 --eval_interval 5 --lightgcn_layers 5 --noise_scale 0.4\n",
    "./run.sh --dataset_name Steam --tr \"(8,20)\" --ars \"[(7,7)]\" --an 2 --max_sample_num_per_user 1 --augment_batch_size 256 --train_batch_size 256 --max_ub_num_quantile 1.0 --max_ui_num_quantile 1.0 --max_bi_num_quantile 1.0 --early_stop 20 --embedding_dim 64 --eval_interval 5 --lightgcn_layers 5 --noise_scale 0.5\n",
    "\n",
    "./run.sh --dataset_name Steam --tr \"(8,20)\" --ars \"[(7,7)]\" --an 2 --max_sample_num_per_user 1 --augment_batch_size 256 --train_batch_size 256 --max_ub_num_quantile 1.0 --max_ui_num_quantile 1.0 --max_bi_num_quantile 1.0 --early_stop 20 --embedding_dim 64 --eval_interval 5 --lightgcn_layers 5 --noise_scale 0.2 --max_diffusion_steps 10\n",
    "./run.sh --dataset_name Steam --tr \"(8,20)\" --ars \"[(7,7)]\" --an 2 --max_sample_num_per_user 1 --augment_batch_size 256 --train_batch_size 256 --max_ub_num_quantile 1.0 --max_ui_num_quantile 1.0 --max_bi_num_quantile 1.0 --early_stop 20 --embedding_dim 64 --eval_interval 5 --lightgcn_layers 5 --noise_scale 0.2 --max_diffusion_steps 30\n",
    "./run.sh --dataset_name Steam --tr \"(8,20)\" --ars \"[(7,7)]\" --an 2 --max_sample_num_per_user 1 --augment_batch_size 256 --train_batch_size 256 --max_ub_num_quantile 1.0 --max_ui_num_quantile 1.0 --max_bi_num_quantile 1.0 --early_stop 20 --embedding_dim 64 --eval_interval 5 --lightgcn_layers 5 --noise_scale 0.2 --max_diffusion_steps 40\n",
    "./run.sh --dataset_name Steam --tr \"(8,20)\" --ars \"[(7,7)]\" --an 2 --max_sample_num_per_user 1 --augment_batch_size 256 --train_batch_size 256 --max_ub_num_quantile 1.0 --max_ui_num_quantile 1.0 --max_bi_num_quantile 1.0 --early_stop 20 --embedding_dim 64 --eval_interval 5 --lightgcn_layers 5 --noise_scale 0.2 --max_diffusion_steps 50\n",
    "\n"
   ],
   "metadata": {
    "collapsed": false
   }
  }
 ],
 "metadata": {
  "kernelspec": {
   "display_name": "Python 3",
   "language": "python",
   "name": "python3"
  },
  "language_info": {
   "codemirror_mode": {
    "name": "ipython",
    "version": 2
   },
   "file_extension": ".py",
   "mimetype": "text/x-python",
   "name": "python",
   "nbconvert_exporter": "python",
   "pygments_lexer": "ipython2",
   "version": "2.7.6"
  }
 },
 "nbformat": 4,
 "nbformat_minor": 0
}
